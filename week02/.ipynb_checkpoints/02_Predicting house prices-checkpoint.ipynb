{
 "cells": [
  {
   "cell_type": "code",
   "execution_count": 1,
   "id": "statewide-aluminum",
   "metadata": {},
   "outputs": [],
   "source": [
    "import turicreate as tc"
   ]
  },
  {
   "cell_type": "code",
   "execution_count": 2,
   "id": "spread-edward",
   "metadata": {},
   "outputs": [],
   "source": [
    "sales = tc.load_sframe(\"home_data.sframe\")"
   ]
  },
  {
   "cell_type": "markdown",
   "id": "determined-installation",
   "metadata": {},
   "source": [
    "# 1. Selection and summary statistics:  \n",
    "In the notebook we covered in the module, we discovered which neighborhood (zip code) of Seattle had the highest average house sale price.  Now, take the sales data, select only the houses with this zip code, and compute the average price.  Save this result to answer the quiz at the end."
   ]
  },
  {
   "cell_type": "code",
   "execution_count": 5,
   "id": "surgical-cemetery",
   "metadata": {},
   "outputs": [
    {
     "data": {
      "text/html": [
       "<pre>Materializing X axis SArray</pre>"
      ],
      "text/plain": [
       "Materializing X axis SArray"
      ]
     },
     "metadata": {},
     "output_type": "display_data"
    },
    {
     "data": {
      "text/html": [
       "<pre>Materializing Y axis SArray</pre>"
      ],
      "text/plain": [
       "Materializing Y axis SArray"
      ]
     },
     "metadata": {},
     "output_type": "display_data"
    },
    {
     "data": {
      "text/html": [
       "<html>                 <body>                     <iframe style=\"border:0;margin:0\" width=\"800\" height=\"770\" srcdoc='<html lang=\"en\">                         <head>                             <script src=\"https://cdnjs.cloudflare.com/ajax/libs/vega/5.4.0/vega.js\"></script>                             <script src=\"https://cdnjs.cloudflare.com/ajax/libs/vega-embed/4.0.0/vega-embed.js\"></script>                             <script src=\"https://cdnjs.cloudflare.com/ajax/libs/vega-tooltip/0.5.1/vega-tooltip.min.js\"></script>                             <link rel=\"stylesheet\" type=\"text/css\" href=\"https://cdnjs.cloudflare.com/ajax/libs/vega-tooltip/0.5.1/vega-tooltip.min.css\">                             <style>                             .vega-actions > a{                                 color:white;                                 text-decoration: none;                                 font-family: \"Arial\";                                 cursor:pointer;                                 padding:5px;                                 background:#AAAAAA;                                 border-radius:4px;                                 padding-left:10px;                                 padding-right:10px;                                 margin-right:5px;                             }                             .vega-actions{                                 margin-top:20px;                                 text-align:center                             }                            .vega-actions > a{                                 background:#999999;                            }                             </style>                         </head>                         <body>                             <div id=\"vis\">                             </div>                             <script>                                 var vega_json = \"{\\\"$schema\\\": \\\"https://vega.github.io/schema/vega/v4.json\\\", \\\"autosize\\\": {\\\"type\\\": \\\"fit\\\", \\\"resize\\\": false, \\\"contains\\\": \\\"padding\\\"}, \\\"padding\\\": 8, \\\"metadata\\\": {\\\"bubbleOpts\\\": {\\\"showAllFields\\\": false, \\\"fields\\\": [{\\\"field\\\": \\\"x\\\"}, {\\\"field\\\": \\\"min\\\"}, {\\\"field\\\": \\\"lower quartile\\\"}, {\\\"field\\\": \\\"median\\\"}, {\\\"field\\\": \\\"upper quartile\\\"}, {\\\"field\\\": \\\"max\\\"}]}}, \\\"title\\\": \\\"X vs. Y\\\", \\\"height\\\": 550, \\\"style\\\": \\\"cell\\\", \\\"data\\\": [{\\\"name\\\": \\\"source_2\\\", \\\"transform\\\": [{\\\"type\\\": \\\"collect\\\", \\\"sort\\\": {\\\"field\\\": \\\"median\\\"}}], \\\"values\\\": [{\\\"x\\\": \\\"98188\\\", \\\"min\\\": 110000, \\\"lower quartile\\\": 230000, \\\"median\\\": 265000, \\\"upper quartile\\\": 335000, \\\"max\\\": 707000}, {\\\"x\\\": \\\"98032\\\", \\\"min\\\": 85000, \\\"lower quartile\\\": 221700, \\\"median\\\": 249000, \\\"upper quartile\\\": 285000, \\\"max\\\": 545000}, {\\\"x\\\": \\\"98056\\\", \\\"min\\\": 139000, \\\"lower quartile\\\": 289000, \\\"median\\\": 380000, \\\"upper quartile\\\": 510000, \\\"max\\\": 3000000.0}, {\\\"x\\\": \\\"98117\\\", \\\"min\\\": 125000, \\\"lower quartile\\\": 450000, \\\"median\\\": 544000, \\\"upper quartile\\\": 657500, \\\"max\\\": 1370000.0}, {\\\"x\\\": \\\"98155\\\", \\\"min\\\": 153000, \\\"lower quartile\\\": 315000, \\\"median\\\": 375000, \\\"upper quartile\\\": 460000, \\\"max\\\": 4500000.0}, {\\\"x\\\": \\\"98168\\\", \\\"min\\\": 78000, \\\"lower quartile\\\": 199950, \\\"median\\\": 235000, \\\"upper quartile\\\": 285000, \\\"max\\\": 600000}, {\\\"x\\\": \\\"98058\\\", \\\"min\\\": 95000, \\\"lower quartile\\\": 285000, \\\"median\\\": 335000, \\\"upper quartile\\\": 392000, \\\"max\\\": 1500000.0}, {\\\"x\\\": \\\"98045\\\", \\\"min\\\": 175000, \\\"lower quartile\\\": 305000, \\\"median\\\": 399500, \\\"upper quartile\\\": 495000, \\\"max\\\": 1950000.0}, {\\\"x\\\": \\\"98055\\\", \\\"min\\\": 100000, \\\"lower quartile\\\": 240000, \\\"median\\\": 295000, \\\"upper quartile\\\": 350000, \\\"max\\\": 631000}, {\\\"x\\\": \\\"98148\\\", \\\"min\\\": 105500, \\\"lower quartile\\\": 240000, \\\"median\\\": 278000, \\\"upper quartile\\\": 319990, \\\"max\\\": 600600}, {\\\"x\\\": \\\"98106\\\", \\\"min\\\": 90000, \\\"lower quartile\\\": 260000, \\\"median\\\": 315000, \\\"upper quartile\\\": 366000, \\\"max\\\": 795000}, {\\\"x\\\": \\\"98024\\\", \\\"min\\\": 142000, \\\"lower quartile\\\": 340000, \\\"median\\\": 460000, \\\"upper quartile\\\": 700000, \\\"max\\\": 1862000.0}, {\\\"x\\\": \\\"98011\\\", \\\"min\\\": 245500, \\\"lower quartile\\\": 411800, \\\"median\\\": 470000, \\\"upper quartile\\\": 550000, \\\"max\\\": 1075000.0}, {\\\"x\\\": \\\"98039\\\", \\\"min\\\": 787500, \\\"lower quartile\\\": 1398000.0, \\\"median\\\": 1905000.0, \\\"upper quartile\\\": 2575000.0, \\\"max\\\": 6885000.0}, {\\\"x\\\": \\\"98031\\\", \\\"min\\\": 147500, \\\"lower quartile\\\": 252000, \\\"median\\\": 288400, \\\"upper quartile\\\": 327500, \\\"max\\\": 800000}, {\\\"x\\\": \\\"98014\\\", \\\"min\\\": 80000, \\\"lower quartile\\\": 309000, \\\"median\\\": 415000, \\\"upper quartile\\\": 539000, \\\"max\\\": 1680000.0}, {\\\"x\\\": \\\"98052\\\", \\\"min\\\": 225000, \\\"lower quartile\\\": 509250, \\\"median\\\": 615000, \\\"upper quartile\\\": 751000, \\\"max\\\": 2200000.0}, {\\\"x\\\": \\\"98118\\\", \\\"min\\\": 109000, \\\"lower quartile\\\": 289000, \\\"median\\\": 367500, \\\"upper quartile\\\": 476500, \\\"max\\\": 2903000.0}, {\\\"x\\\": \\\"98022\\\", \\\"min\\\": 75000, \\\"lower quartile\\\": 235000, \\\"median\\\": 280000, \\\"upper quartile\\\": 350000, \\\"max\\\": 858000}, {\\\"x\\\": \\\"98109\\\", \\\"min\\\": 216650, \\\"lower quartile\\\": 620000, \\\"median\\\": 736000, \\\"upper quartile\\\": 1000000.0, \\\"max\\\": 3200000.0}, {\\\"x\\\": \\\"98072\\\", \\\"min\\\": 200000, \\\"lower quartile\\\": 422800, \\\"median\\\": 515000, \\\"upper quartile\\\": 642860, \\\"max\\\": 1565000.0}, {\\\"x\\\": \\\"98029\\\", \\\"min\\\": 285000, \\\"lower quartile\\\": 485000, \\\"median\\\": 575000, \\\"upper quartile\\\": 690000, \\\"max\\\": 2200000.0}, {\\\"x\\\": \\\"98108\\\", \\\"min\\\": 90000, \\\"lower quartile\\\": 284000, \\\"median\\\": 345000, \\\"upper quartile\\\": 425000, \\\"max\\\": 640000}, {\\\"x\\\": \\\"98102\\\", \\\"min\\\": 330000, \\\"lower quartile\\\": 575000, \\\"median\\\": 720000, \\\"upper quartile\\\": 979700, \\\"max\\\": 7700000.0}, {\\\"x\\\": \\\"98116\\\", \\\"min\\\": 130000, \\\"lower quartile\\\": 460000, \\\"median\\\": 565500, \\\"upper quartile\\\": 703000, \\\"max\\\": 2050000.0}, {\\\"x\\\": \\\"98103\\\", \\\"min\\\": 238000, \\\"lower quartile\\\": 432000, \\\"median\\\": 550000, \\\"upper quartile\\\": 695000, \\\"max\\\": 1695000.0}, {\\\"x\\\": \\\"98034\\\", \\\"min\\\": 90000, \\\"lower quartile\\\": 387000, \\\"median\\\": 445950, \\\"upper quartile\\\": 525000, \\\"max\\\": 3120000.0}, {\\\"x\\\": \\\"98136\\\", \\\"min\\\": 200000, \\\"lower quartile\\\": 398000, \\\"median\\\": 489950, \\\"upper quartile\\\": 660000, \\\"max\\\": 2230000.0}, {\\\"x\\\": \\\"98005\\\", \\\"min\\\": 400000, \\\"lower quartile\\\": 638700, \\\"median\\\": 768500, \\\"upper quartile\\\": 915000, \\\"max\\\": 1960000.0}, {\\\"x\\\": \\\"98122\\\", \\\"min\\\": 202000, \\\"lower quartile\\\": 450000, \\\"median\\\": 574000, \\\"upper quartile\\\": 720000, \\\"max\\\": 2050000.0}, {\\\"x\\\": \\\"98042\\\", \\\"min\\\": 105000, \\\"lower quartile\\\": 240000, \\\"median\\\": 292500, \\\"upper quartile\\\": 359950, \\\"max\\\": 859000}, {\\\"x\\\": \\\"98070\\\", \\\"min\\\": 160000, \\\"lower quartile\\\": 340000, \\\"median\\\": 465000, \\\"upper quartile\\\": 575000, \\\"max\\\": 1379900.0}, {\\\"x\\\": \\\"98010\\\", \\\"min\\\": 135000, \\\"lower quartile\\\": 257000, \\\"median\\\": 360000, \\\"upper quartile\\\": 600000, \\\"max\\\": 935000}, {\\\"x\\\": \\\"98092\\\", \\\"min\\\": 90000, \\\"lower quartile\\\": 263950, \\\"median\\\": 309780, \\\"upper quartile\\\": 379500, \\\"max\\\": 930000}, {\\\"x\\\": \\\"98059\\\", \\\"min\\\": 172500, \\\"lower quartile\\\": 340000, \\\"median\\\": 435000, \\\"upper quartile\\\": 552500, \\\"max\\\": 1780000.0}, {\\\"x\\\": \\\"98119\\\", \\\"min\\\": 300523, \\\"lower quartile\\\": 600000, \\\"median\\\": 749950, \\\"upper quartile\\\": 940000, \\\"max\\\": 3065000.0}, {\\\"x\\\": \\\"98178\\\", \\\"min\\\": 90000, \\\"lower quartile\\\": 223000, \\\"median\\\": 279000, \\\"upper quartile\\\": 350000, \\\"max\\\": 1700000.0}, {\\\"x\\\": \\\"98001\\\", \\\"min\\\": 100000, \\\"lower quartile\\\": 215000, \\\"median\\\": 260000, \\\"upper quartile\\\": 320000, \\\"max\\\": 850000}, {\\\"x\\\": \\\"98006\\\", \\\"min\\\": 247500, \\\"lower quartile\\\": 575000, \\\"median\\\": 760369, \\\"upper quartile\\\": 978000, \\\"max\\\": 4208000.0}, {\\\"x\\\": \\\"98166\\\", \\\"min\\\": 100000, \\\"lower quartile\\\": 292000, \\\"median\\\": 390000, \\\"upper quartile\\\": 540500, \\\"max\\\": 2510000.0}, {\\\"x\\\": \\\"98027\\\", \\\"min\\\": 130000, \\\"lower quartile\\\": 450000, \\\"median\\\": 571000, \\\"upper quartile\\\": 716500, \\\"max\\\": 2700000.0}, {\\\"x\\\": \\\"98030\\\", \\\"min\\\": 120000, \\\"lower quartile\\\": 249950, \\\"median\\\": 282510, \\\"upper quartile\\\": 339950, \\\"max\\\": 565000}, {\\\"x\\\": \\\"98065\\\", \\\"min\\\": 170000, \\\"lower quartile\\\": 424950, \\\"median\\\": 500000, \\\"upper quartile\\\": 619000, \\\"max\\\": 1998000.0}, {\\\"x\\\": \\\"98133\\\", \\\"min\\\": 130000, \\\"lower quartile\\\": 318000, \\\"median\\\": 375000, \\\"upper quartile\\\": 435000, \\\"max\\\": 808100}, {\\\"x\\\": \\\"98115\\\", \\\"min\\\": 200000, \\\"lower quartile\\\": 455000, \\\"median\\\": 567000, \\\"upper quartile\\\": 719000, \\\"max\\\": 2300000.0}, {\\\"x\\\": \\\"98002\\\", \\\"min\\\": 95000, \\\"lower quartile\\\": 199950, \\\"median\\\": 235000, \\\"upper quartile\\\": 269000, \\\"max\\\": 389000}, {\\\"x\\\": \\\"98053\\\", \\\"min\\\": 170000, \\\"lower quartile\\\": 485000, \\\"median\\\": 635000, \\\"upper quartile\\\": 790500, \\\"max\\\": 2280000.0}, {\\\"x\\\": \\\"98144\\\", \\\"min\\\": 181000, \\\"lower quartile\\\": 374950, \\\"median\\\": 450000, \\\"upper quartile\\\": 666000, \\\"max\\\": 3600000.0}, {\\\"x\\\": \\\"98075\\\", \\\"min\\\": 406430, \\\"lower quartile\\\": 641000, \\\"median\\\": 739999, \\\"upper quartile\\\": 870000, \\\"max\\\": 3200000.0}, {\\\"x\\\": \\\"98033\\\", \\\"min\\\": 130000, \\\"lower quartile\\\": 535000, \\\"median\\\": 678700, \\\"upper quartile\\\": 902000, \\\"max\\\": 5110800.0}, {\\\"x\\\": \\\"98146\\\", \\\"min\\\": 82000, \\\"lower quartile\\\": 229500, \\\"median\\\": 307000, \\\"upper quartile\\\": 409000, \\\"max\\\": 1410000.0}, {\\\"x\\\": \\\"98199\\\", \\\"min\\\": 323000, \\\"lower quartile\\\": 535000, \\\"median\\\": 689800, \\\"upper quartile\\\": 950000, \\\"max\\\": 3200000.0}, {\\\"x\\\": \\\"98019\\\", \\\"min\\\": 119500, \\\"lower quartile\\\": 330000, \\\"median\\\": 402500, \\\"upper quartile\\\": 500000, \\\"max\\\": 1015000.0}, {\\\"x\\\": \\\"98004\\\", \\\"min\\\": 425000, \\\"lower quartile\\\": 845000, \\\"median\\\": 1150000.0, \\\"upper quartile\\\": 1691000.0, \\\"max\\\": 7062500.0}, {\\\"x\\\": \\\"98023\\\", \\\"min\\\": 86500, \\\"lower quartile\\\": 224097, \\\"median\\\": 268450, \\\"upper quartile\\\": 316500, \\\"max\\\": 1275000.0}, {\\\"x\\\": \\\"98126\\\", \\\"min\\\": 110000, \\\"lower quartile\\\": 320000, \\\"median\\\": 396500, \\\"upper quartile\\\": 485000, \\\"max\\\": 1085000.0}, {\\\"x\\\": \\\"98107\\\", \\\"min\\\": 290000, \\\"lower quartile\\\": 470000, \\\"median\\\": 529950, \\\"upper quartile\\\": 630000, \\\"max\\\": 2945000.0}, {\\\"x\\\": \\\"98007\\\", \\\"min\\\": 295000, \\\"lower quartile\\\": 465000, \\\"median\\\": 555000, \\\"upper quartile\\\": 730000, \\\"max\\\": 1315000.0}, {\\\"x\\\": \\\"98077\\\", \\\"min\\\": 250000, \\\"lower quartile\\\": 510000, \\\"median\\\": 654950, \\\"upper quartile\\\": 835000, \\\"max\\\": 1920000.0}, {\\\"x\\\": \\\"98112\\\", \\\"min\\\": 169317, \\\"lower quartile\\\": 680000, \\\"median\\\": 915000, \\\"upper quartile\\\": 1328000.0, \\\"max\\\": 3400000.0}, {\\\"x\\\": \\\"98028\\\", \\\"min\\\": 160000, \\\"lower quartile\\\": 379950, \\\"median\\\": 445000, \\\"upper quartile\\\": 526750, \\\"max\\\": 1600000.0}, {\\\"x\\\": \\\"98038\\\", \\\"min\\\": 110000, \\\"lower quartile\\\": 285000, \\\"median\\\": 342000, \\\"upper quartile\\\": 410000, \\\"max\\\": 1350000.0}, {\\\"x\\\": \\\"98040\\\", \\\"min\\\": 500000, \\\"lower quartile\\\": 821000, \\\"median\\\": 994000, \\\"upper quartile\\\": 1387000.0, \\\"max\\\": 5300000.0}, {\\\"x\\\": \\\"98177\\\", \\\"min\\\": 245560, \\\"lower quartile\\\": 427000, \\\"median\\\": 554000, \\\"upper quartile\\\": 749950, \\\"max\\\": 3800000.0}, {\\\"x\\\": \\\"98008\\\", \\\"min\\\": 250000, \\\"lower quartile\\\": 465000, \\\"median\\\": 545000, \\\"upper quartile\\\": 660000, \\\"max\\\": 3567000.0}, {\\\"x\\\": \\\"98003\\\", \\\"min\\\": 128000, \\\"lower quartile\\\": 229000, \\\"median\\\": 267950, \\\"upper quartile\\\": 333000, \\\"max\\\": 950000}, {\\\"x\\\": \\\"98105\\\", \\\"min\\\": 380000, \\\"lower quartile\\\": 550000, \\\"median\\\": 675000, \\\"upper quartile\\\": 1005000.0, \\\"max\\\": 3650000.0}, {\\\"x\\\": \\\"98074\\\", \\\"min\\\": 280000, \\\"lower quartile\\\": 532000, \\\"median\\\": 642000, \\\"upper quartile\\\": 798000, \\\"max\\\": 3075000.0}, {\\\"x\\\": \\\"98125\\\", \\\"min\\\": 175000, \\\"lower quartile\\\": 357250, \\\"median\\\": 425000, \\\"upper quartile\\\": 518000, \\\"max\\\": 2050000.0}, {\\\"x\\\": \\\"98198\\\", \\\"min\\\": 95000, \\\"lower quartile\\\": 216500, \\\"median\\\": 265000, \\\"upper quartile\\\": 340000, \\\"max\\\": 1350000.0}]}], \\\"signals\\\": [{\\\"name\\\": \\\"x_step\\\", \\\"value\\\": 42}, {\\\"name\\\": \\\"width\\\", \\\"update\\\": \\\"max(720, 100 + bandspace(domain(&apos;x&apos;).length, 0.1, 0.1) * x_step)\\\"}], \\\"marks\\\": [{\\\"name\\\": \\\"layer_0_marks\\\", \\\"type\\\": \\\"rule\\\", \\\"style\\\": [\\\"boxWhisker\\\"], \\\"from\\\": {\\\"data\\\": \\\"source_2\\\"}, \\\"encode\\\": {\\\"update\\\": {\\\"x\\\": {\\\"scale\\\": \\\"x\\\", \\\"field\\\": \\\"x\\\", \\\"band\\\": 0.5}, \\\"y\\\": {\\\"scale\\\": \\\"y\\\", \\\"field\\\": \\\"min\\\"}, \\\"y2\\\": {\\\"scale\\\": \\\"y\\\", \\\"field\\\": \\\"lower quartile\\\"}, \\\"stroke\\\": {\\\"value\\\": \\\"black\\\"}}}}, {\\\"name\\\": \\\"layer_1_marks\\\", \\\"type\\\": \\\"rule\\\", \\\"style\\\": [\\\"boxWhisker\\\"], \\\"from\\\": {\\\"data\\\": \\\"source_2\\\"}, \\\"encode\\\": {\\\"update\\\": {\\\"x\\\": {\\\"scale\\\": \\\"x\\\", \\\"field\\\": \\\"x\\\", \\\"band\\\": 0.5}, \\\"y\\\": {\\\"scale\\\": \\\"y\\\", \\\"field\\\": \\\"upper quartile\\\"}, \\\"y2\\\": {\\\"scale\\\": \\\"y\\\", \\\"field\\\": \\\"max\\\"}, \\\"stroke\\\": {\\\"value\\\": \\\"black\\\"}}}}, {\\\"name\\\": \\\"layer_2_marks\\\", \\\"type\\\": \\\"rect\\\", \\\"style\\\": [\\\"box\\\"], \\\"from\\\": {\\\"data\\\": \\\"source_2\\\"}, \\\"encode\\\": {\\\"hover\\\": {\\\"fill\\\": {\\\"value\\\": \\\"#7EC2F3\\\"}}, \\\"update\\\": {\\\"xc\\\": {\\\"scale\\\": \\\"x\\\", \\\"field\\\": \\\"x\\\", \\\"band\\\": 0.5}, \\\"width\\\": {\\\"value\\\": 20}, \\\"y\\\": {\\\"scale\\\": \\\"y\\\", \\\"field\\\": \\\"lower quartile\\\"}, \\\"y2\\\": {\\\"scale\\\": \\\"y\\\", \\\"field\\\": \\\"upper quartile\\\"}, \\\"fill\\\": {\\\"value\\\": \\\"#108EE9\\\"}}}}, {\\\"name\\\": \\\"layer_3_marks\\\", \\\"type\\\": \\\"rect\\\", \\\"style\\\": [\\\"boxMid\\\"], \\\"from\\\": {\\\"data\\\": \\\"source_2\\\"}, \\\"encode\\\": {\\\"update\\\": {\\\"xc\\\": {\\\"scale\\\": \\\"x\\\", \\\"field\\\": \\\"x\\\", \\\"band\\\": 0.5}, \\\"yc\\\": {\\\"scale\\\": \\\"y\\\", \\\"field\\\": \\\"median\\\"}, \\\"width\\\": {\\\"value\\\": 20}, \\\"height\\\": {\\\"value\\\": 1}, \\\"fill\\\": {\\\"value\\\": \\\"black\\\"}, \\\"opacity\\\": {\\\"value\\\": 0.7}}}}], \\\"scales\\\": [{\\\"name\\\": \\\"x\\\", \\\"type\\\": \\\"band\\\", \\\"domain\\\": {\\\"fields\\\": [{\\\"data\\\": \\\"source_2\\\", \\\"field\\\": \\\"x\\\"}]}, \\\"range\\\": {\\\"step\\\": {\\\"signal\\\": \\\"x_step\\\"}}, \\\"paddingInner\\\": 0.1, \\\"paddingOuter\\\": 0.05}, {\\\"name\\\": \\\"y\\\", \\\"type\\\": \\\"linear\\\", \\\"domain\\\": {\\\"fields\\\": [{\\\"data\\\": \\\"source_2\\\", \\\"field\\\": \\\"min\\\"}, {\\\"data\\\": \\\"source_2\\\", \\\"field\\\": \\\"lower quartile\\\"}, {\\\"data\\\": \\\"source_2\\\", \\\"field\\\": \\\"upper quartile\\\"}, {\\\"data\\\": \\\"source_2\\\", \\\"field\\\": \\\"max\\\"}, {\\\"data\\\": \\\"source_2\\\", \\\"field\\\": \\\"lower quartile\\\"}, {\\\"data\\\": \\\"source_2\\\", \\\"field\\\": \\\"upper quartile\\\"}, {\\\"data\\\": \\\"source_2\\\", \\\"field\\\": \\\"median\\\"}], \\\"sort\\\": true}, \\\"range\\\": [{\\\"signal\\\": \\\"height\\\"}, 0], \\\"nice\\\": true, \\\"zero\\\": true}], \\\"axes\\\": [{\\\"scale\\\": \\\"x\\\", \\\"labelOverlap\\\": true, \\\"orient\\\": \\\"bottom\\\", \\\"title\\\": \\\"X\\\", \\\"zindex\\\": 1, \\\"encode\\\": {\\\"labels\\\": {\\\"update\\\": {\\\"angle\\\": {\\\"value\\\": 270}, \\\"align\\\": {\\\"value\\\": \\\"right\\\"}, \\\"baseline\\\": {\\\"value\\\": \\\"middle\\\"}}}}}, {\\\"title\\\": \\\"Y\\\", \\\"scale\\\": \\\"y\\\", \\\"labelOverlap\\\": true, \\\"orient\\\": \\\"left\\\", \\\"tickCount\\\": {\\\"signal\\\": \\\"ceil(height/40)\\\"}, \\\"zindex\\\": 1}, {\\\"scale\\\": \\\"y\\\", \\\"domain\\\": false, \\\"grid\\\": true, \\\"labels\\\": false, \\\"maxExtent\\\": 0, \\\"minExtent\\\": 0, \\\"orient\\\": \\\"left\\\", \\\"tickCount\\\": {\\\"signal\\\": \\\"ceil(height/40)\\\"}, \\\"ticks\\\": false, \\\"zindex\\\": 0, \\\"gridScale\\\": \\\"x\\\"}], \\\"config\\\": {\\\"axis\\\": {\\\"gridColor\\\": \\\"rgba(204,204,204,1.0)\\\", \\\"labelFont\\\": \\\"\\\\\\\"San Francisco\\\\\\\", HelveticaNeue, Arial\\\", \\\"labelFontSize\\\": 12, \\\"labelPadding\\\": 10, \\\"labelColor\\\": \\\"rgba(0,0,0,0.847)\\\", \\\"tickColor\\\": \\\"rgb(136,136,136)\\\", \\\"titleFont\\\": \\\"\\\\\\\"San Francisco\\\\\\\", HelveticaNeue, Arial\\\", \\\"titleFontWeight\\\": \\\"normal\\\", \\\"titlePadding\\\": 20, \\\"titleFontSize\\\": 14, \\\"titleColor\\\": \\\"rgba(0,0,0,0.847)\\\"}, \\\"axisY\\\": {\\\"minExtent\\\": 30}, \\\"legend\\\": {\\\"labelFont\\\": \\\"\\\\\\\"San Francisco\\\\\\\", HelveticaNeue, Arial\\\", \\\"labelColor\\\": \\\"rgba(0,0,0,0.847)\\\", \\\"titleFont\\\": \\\"\\\\\\\"San Francisco\\\\\\\", HelveticaNeue, Arial\\\", \\\"cornerRadius\\\": 30, \\\"gradientLength\\\": 608, \\\"titleColor\\\": \\\"rgba(0,0,0,0.847)\\\"}, \\\"range\\\": {\\\"heatmap\\\": {\\\"scheme\\\": \\\"greenblue\\\"}}, \\\"style\\\": {\\\"rect\\\": {\\\"stroke\\\": \\\"rgba(200, 200, 200, 0.5)\\\"}, \\\"cell\\\": {\\\"stroke\\\": \\\"transparent\\\"}, \\\"group-title\\\": {\\\"fontSize\\\": 29, \\\"font\\\": \\\"HelveticaNeue, Arial\\\", \\\"fontWeight\\\": \\\"normal\\\", \\\"fill\\\": \\\"rgba(0,0,0,0.65)\\\"}}, \\\"title\\\": {\\\"color\\\": \\\"rgba(0,0,0,0.847)\\\", \\\"font\\\": \\\"\\\\\\\"San Francisco\\\\\\\", HelveticaNeue, Arial\\\", \\\"fontSize\\\": 18, \\\"fontWeight\\\": \\\"normal\\\", \\\"offset\\\": 30}}}\";                                 var vega_json_parsed = JSON.parse(vega_json);                                 var toolTipOpts = {                                     showAllFields: true                                 };                                 if(vega_json_parsed[\"metadata\"] != null){                                     if(vega_json_parsed[\"metadata\"][\"bubbleOpts\"] != null){                                         toolTipOpts = vega_json_parsed[\"metadata\"][\"bubbleOpts\"];                                     };                                 };                                 vegaEmbed(\"#vis\", vega_json_parsed).then(function (result) {                                     vegaTooltip.vega(result.view, toolTipOpts);                                  });                             </script>                         </body>                     </html>' src=\"demo_iframe_srcdoc.htm\">                         <p>Your browser does not support iframes.</p>                     </iframe>                 </body>             </html>"
      ],
      "text/plain": [
       "<IPython.core.display.HTML object>"
      ]
     },
     "metadata": {},
     "output_type": "display_data"
    }
   ],
   "source": [
    "tc.show(sales['zipcode'], sales['price'])"
   ]
  },
  {
   "cell_type": "code",
   "execution_count": 19,
   "id": "global-botswana",
   "metadata": {},
   "outputs": [
    {
     "data": {
      "text/html": [
       "<div style=\"max-height:1000px;max-width:1500px;overflow:auto;\"><table frame=\"box\" rules=\"cols\">\n",
       "    <tr>\n",
       "        <th style=\"padding-left: 1em; padding-right: 1em; text-align: center\">zipcode</th>\n",
       "        <th style=\"padding-left: 1em; padding-right: 1em; text-align: center\">avg</th>\n",
       "    </tr>\n",
       "    <tr>\n",
       "        <td style=\"padding-left: 1em; padding-right: 1em; text-align: center; vertical-align: top\">98039</td>\n",
       "        <td style=\"padding-left: 1em; padding-right: 1em; text-align: center; vertical-align: top\">2160606.6</td>\n",
       "    </tr>\n",
       "    <tr>\n",
       "        <td style=\"padding-left: 1em; padding-right: 1em; text-align: center; vertical-align: top\">98004</td>\n",
       "        <td style=\"padding-left: 1em; padding-right: 1em; text-align: center; vertical-align: top\">1355927.0977917982</td>\n",
       "    </tr>\n",
       "    <tr>\n",
       "        <td style=\"padding-left: 1em; padding-right: 1em; text-align: center; vertical-align: top\">98040</td>\n",
       "        <td style=\"padding-left: 1em; padding-right: 1em; text-align: center; vertical-align: top\">1194230.0035461</td>\n",
       "    </tr>\n",
       "    <tr>\n",
       "        <td style=\"padding-left: 1em; padding-right: 1em; text-align: center; vertical-align: top\">98112</td>\n",
       "        <td style=\"padding-left: 1em; padding-right: 1em; text-align: center; vertical-align: top\">1095499.36802974</td>\n",
       "    </tr>\n",
       "    <tr>\n",
       "        <td style=\"padding-left: 1em; padding-right: 1em; text-align: center; vertical-align: top\">98102</td>\n",
       "        <td style=\"padding-left: 1em; padding-right: 1em; text-align: center; vertical-align: top\">901258.2380952381</td>\n",
       "    </tr>\n",
       "    <tr>\n",
       "        <td style=\"padding-left: 1em; padding-right: 1em; text-align: center; vertical-align: top\">98109</td>\n",
       "        <td style=\"padding-left: 1em; padding-right: 1em; text-align: center; vertical-align: top\">879623.6238532111</td>\n",
       "    </tr>\n",
       "    <tr>\n",
       "        <td style=\"padding-left: 1em; padding-right: 1em; text-align: center; vertical-align: top\">98105</td>\n",
       "        <td style=\"padding-left: 1em; padding-right: 1em; text-align: center; vertical-align: top\">862825.2314410482</td>\n",
       "    </tr>\n",
       "    <tr>\n",
       "        <td style=\"padding-left: 1em; padding-right: 1em; text-align: center; vertical-align: top\">98006</td>\n",
       "        <td style=\"padding-left: 1em; padding-right: 1em; text-align: center; vertical-align: top\">859684.7630522088</td>\n",
       "    </tr>\n",
       "    <tr>\n",
       "        <td style=\"padding-left: 1em; padding-right: 1em; text-align: center; vertical-align: top\">98119</td>\n",
       "        <td style=\"padding-left: 1em; padding-right: 1em; text-align: center; vertical-align: top\">849448.0108695652</td>\n",
       "    </tr>\n",
       "    <tr>\n",
       "        <td style=\"padding-left: 1em; padding-right: 1em; text-align: center; vertical-align: top\">98005</td>\n",
       "        <td style=\"padding-left: 1em; padding-right: 1em; text-align: center; vertical-align: top\">810164.880952381</td>\n",
       "    </tr>\n",
       "</table>\n",
       "[70 rows x 2 columns]<br/>Note: Only the head of the SFrame is printed.<br/>You can use print_rows(num_rows=m, num_columns=n) to print more rows and columns.\n",
       "</div>"
      ],
      "text/plain": [
       "Columns:\n",
       "\tzipcode\tstr\n",
       "\tavg\tfloat\n",
       "\n",
       "Rows: 70\n",
       "\n",
       "Data:\n",
       "+---------+--------------------+\n",
       "| zipcode |        avg         |\n",
       "+---------+--------------------+\n",
       "|  98039  |     2160606.6      |\n",
       "|  98004  | 1355927.0977917982 |\n",
       "|  98040  |  1194230.0035461   |\n",
       "|  98112  |  1095499.36802974  |\n",
       "|  98102  | 901258.2380952381  |\n",
       "|  98109  | 879623.6238532111  |\n",
       "|  98105  | 862825.2314410482  |\n",
       "|  98006  | 859684.7630522088  |\n",
       "|  98119  | 849448.0108695652  |\n",
       "|  98005  |  810164.880952381  |\n",
       "+---------+--------------------+\n",
       "[70 rows x 2 columns]\n",
       "Note: Only the head of the SFrame is printed.\n",
       "You can use print_rows(num_rows=m, num_columns=n) to print more rows and columns."
      ]
     },
     "execution_count": 19,
     "metadata": {},
     "output_type": "execute_result"
    }
   ],
   "source": [
    "sales.groupby(key_column_names='zipcode', operations={'avg': tc.aggregate.AVG('price')}).sort('avg', ascending=False)"
   ]
  },
  {
   "cell_type": "code",
   "execution_count": 20,
   "id": "convertible-joyce",
   "metadata": {},
   "outputs": [],
   "source": [
    "subsales = sales[sales['zipcode']=='98039']"
   ]
  },
  {
   "cell_type": "code",
   "execution_count": 21,
   "id": "dressed-lease",
   "metadata": {},
   "outputs": [
    {
     "data": {
      "text/plain": [
       "2160606.5999999996"
      ]
     },
     "execution_count": 21,
     "metadata": {},
     "output_type": "execute_result"
    }
   ],
   "source": [
    "subsales['price'].mean()"
   ]
  },
  {
   "cell_type": "markdown",
   "id": "prescribed-lounge",
   "metadata": {},
   "source": [
    "# 2.  Filtering data: \n",
    "One of the key features we used in our model was the number of square feet of living space (‘sqft_living’) in the house. For this part, we are going to use the idea of filtering (selecting) data."
   ]
  },
  {
   "cell_type": "code",
   "execution_count": 22,
   "id": "friendly-leader",
   "metadata": {},
   "outputs": [],
   "source": [
    "mask = (sales['sqft_living']>2000) & (sales['sqft_living']<4000)"
   ]
  },
  {
   "cell_type": "code",
   "execution_count": 37,
   "id": "veterinary-rally",
   "metadata": {},
   "outputs": [
    {
     "data": {
      "text/plain": [
       "0.4215518437977143"
      ]
     },
     "execution_count": 37,
     "metadata": {},
     "output_type": "execute_result"
    }
   ],
   "source": [
    "mask.sum() / sales['sqft_living'].shape[0]"
   ]
  },
  {
   "cell_type": "markdown",
   "id": "genuine-ballet",
   "metadata": {},
   "source": [
    "#  3. Building a regression model with several more features:  \n",
    "In the sample notebook, we built two regression models to predict house prices, one using just ‘sqft_living’ and the other one using a few more features, we called this set"
   ]
  },
  {
   "cell_type": "code",
   "execution_count": 38,
   "id": "standard-bacon",
   "metadata": {},
   "outputs": [],
   "source": [
    "my_features = ['bedrooms', 'bathrooms', 'sqft_living', 'sqft_lot', 'floors', 'zipcode']"
   ]
  },
  {
   "cell_type": "markdown",
   "id": "verified-jackson",
   "metadata": {},
   "source": [
    "Now, going back to the original dataset, you will build a model using the following features:"
   ]
  },
  {
   "cell_type": "code",
   "execution_count": 39,
   "id": "entertaining-visit",
   "metadata": {},
   "outputs": [],
   "source": [
    "advanced_features = [\n",
    "'bedrooms', 'bathrooms', 'sqft_living', 'sqft_lot', 'floors', 'zipcode',\n",
    "'condition', # condition of house\t\t\t\t\n",
    "'grade', # measure of quality of construction\t\t\t\t\n",
    "'waterfront', # waterfront property\t\t\t\t\n",
    "'view', # type of view\t\t\t\t\n",
    "'sqft_above', # square feet above ground\t\t\t\t\n",
    "'sqft_basement', # square feet in basement\t\t\t\t\n",
    "'yr_built', # the year built\t\t\t\t\n",
    "'yr_renovated', # the year renovated\t\t\t\t\n",
    "'lat', 'long', # the lat-long of the parcel\t\t\t\t\n",
    "'sqft_living15', # average sq.ft. of 15 nearest neighbors \t\t\t\t\n",
    "'sqft_lot15', # average lot size of 15 nearest neighbors \n",
    "]"
   ]
  },
  {
   "cell_type": "markdown",
   "id": "rental-fighter",
   "metadata": {},
   "source": [
    "**Compute the RMSE** (root mean squared error) on the test_data for the model using just my_features, and for the one using advanced_features.\n",
    "\n",
    "**Note 1: both models must be trained on the original sales train dataset, not the one filtered on `sqft_living`.**\n",
    "\n",
    "     Note 2:  when doing the train-test split, make sure you use seed=0, so you get the same training and test sets, and thus results, as we do.  \n",
    "\n",
    "    Note 3:  in the module we discussed residual sum of squares (RSS) as an error metric for regression, but Turi Create uses root mean squared error (RMSE).  These are two common measures of error regression, and RMSE is simply the square root of the mean RSS: \n",
    "\n",
    "\n",
    "where N is the number of data points.  RMSE can be more intuitive than RSS, since its units are the same as that of the target column in the data, in our case the unit is dollars ($), and doesn't grow with the number of data points, like the RSS does.\n",
    "\n",
    "(Important note:  when answering the question below using Turi Create, when you call the **linear_regression.create()** function, make sure you use the parameter **validation_set=None**, as done in the notebook you download above.  When you use regression Turi Create, it sets aside a small random subset of the data to validate some parameters.  This process can cause fluctuations in the final RMSE, so we will avoid it to make sure everyone gets the same answer.)\n",
    "\n",
    "**What is the difference in RMSE between the model trained with my_features and the one trained with advanced_features?Save this result to answer the quiz at the end.**"
   ]
  },
  {
   "cell_type": "code",
   "execution_count": 46,
   "id": "fleet-creation",
   "metadata": {},
   "outputs": [],
   "source": [
    "training_set, test_set = sales.random_split(.8,seed=0)"
   ]
  },
  {
   "cell_type": "code",
   "execution_count": 48,
   "id": "personal-discipline",
   "metadata": {},
   "outputs": [
    {
     "data": {
      "text/html": [
       "<pre>Linear regression:</pre>"
      ],
      "text/plain": [
       "Linear regression:"
      ]
     },
     "metadata": {},
     "output_type": "display_data"
    },
    {
     "data": {
      "text/html": [
       "<pre>--------------------------------------------------------</pre>"
      ],
      "text/plain": [
       "--------------------------------------------------------"
      ]
     },
     "metadata": {},
     "output_type": "display_data"
    },
    {
     "data": {
      "text/html": [
       "<pre>Number of examples          : 17384</pre>"
      ],
      "text/plain": [
       "Number of examples          : 17384"
      ]
     },
     "metadata": {},
     "output_type": "display_data"
    },
    {
     "data": {
      "text/html": [
       "<pre>Number of features          : 6</pre>"
      ],
      "text/plain": [
       "Number of features          : 6"
      ]
     },
     "metadata": {},
     "output_type": "display_data"
    },
    {
     "data": {
      "text/html": [
       "<pre>Number of unpacked features : 6</pre>"
      ],
      "text/plain": [
       "Number of unpacked features : 6"
      ]
     },
     "metadata": {},
     "output_type": "display_data"
    },
    {
     "data": {
      "text/html": [
       "<pre>Number of coefficients    : 75</pre>"
      ],
      "text/plain": [
       "Number of coefficients    : 75"
      ]
     },
     "metadata": {},
     "output_type": "display_data"
    },
    {
     "data": {
      "text/html": [
       "<pre>Starting Newton Method</pre>"
      ],
      "text/plain": [
       "Starting Newton Method"
      ]
     },
     "metadata": {},
     "output_type": "display_data"
    },
    {
     "data": {
      "text/html": [
       "<pre>--------------------------------------------------------</pre>"
      ],
      "text/plain": [
       "--------------------------------------------------------"
      ]
     },
     "metadata": {},
     "output_type": "display_data"
    },
    {
     "data": {
      "text/html": [
       "<pre>+-----------+----------+--------------+--------------------+---------------------------------+</pre>"
      ],
      "text/plain": [
       "+-----------+----------+--------------+--------------------+---------------------------------+"
      ]
     },
     "metadata": {},
     "output_type": "display_data"
    },
    {
     "data": {
      "text/html": [
       "<pre>| Iteration | Passes   | Elapsed Time | Training Max Error | Training Root-Mean-Square Error |</pre>"
      ],
      "text/plain": [
       "| Iteration | Passes   | Elapsed Time | Training Max Error | Training Root-Mean-Square Error |"
      ]
     },
     "metadata": {},
     "output_type": "display_data"
    },
    {
     "data": {
      "text/html": [
       "<pre>+-----------+----------+--------------+--------------------+---------------------------------+</pre>"
      ],
      "text/plain": [
       "+-----------+----------+--------------+--------------------+---------------------------------+"
      ]
     },
     "metadata": {},
     "output_type": "display_data"
    },
    {
     "data": {
      "text/html": [
       "<pre>| 1         | 2        | 0.042003     | 4086543.315840     | 189216.804808                   |</pre>"
      ],
      "text/plain": [
       "| 1         | 2        | 0.042003     | 4086543.315840     | 189216.804808                   |"
      ]
     },
     "metadata": {},
     "output_type": "display_data"
    },
    {
     "data": {
      "text/html": [
       "<pre>+-----------+----------+--------------+--------------------+---------------------------------+</pre>"
      ],
      "text/plain": [
       "+-----------+----------+--------------+--------------------+---------------------------------+"
      ]
     },
     "metadata": {},
     "output_type": "display_data"
    },
    {
     "data": {
      "text/html": [
       "<pre>SUCCESS: Optimal solution found.</pre>"
      ],
      "text/plain": [
       "SUCCESS: Optimal solution found."
      ]
     },
     "metadata": {},
     "output_type": "display_data"
    },
    {
     "data": {
      "text/html": [
       "<pre></pre>"
      ],
      "text/plain": []
     },
     "metadata": {},
     "output_type": "display_data"
    }
   ],
   "source": [
    "my_model = tc.linear_regression.create(training_set,target='price',features=my_features, validation_set=None)"
   ]
  },
  {
   "cell_type": "code",
   "execution_count": 49,
   "id": "brown-vintage",
   "metadata": {},
   "outputs": [
    {
     "data": {
      "text/plain": [
       "{'max_error': 3152242.7848689733, 'rmse': 180439.07296639978}"
      ]
     },
     "execution_count": 49,
     "metadata": {},
     "output_type": "execute_result"
    }
   ],
   "source": [
    "my_model.evaluate(test_set)"
   ]
  },
  {
   "cell_type": "code",
   "execution_count": 50,
   "id": "minute-estonia",
   "metadata": {},
   "outputs": [
    {
     "data": {
      "text/html": [
       "<pre>Linear regression:</pre>"
      ],
      "text/plain": [
       "Linear regression:"
      ]
     },
     "metadata": {},
     "output_type": "display_data"
    },
    {
     "data": {
      "text/html": [
       "<pre>--------------------------------------------------------</pre>"
      ],
      "text/plain": [
       "--------------------------------------------------------"
      ]
     },
     "metadata": {},
     "output_type": "display_data"
    },
    {
     "data": {
      "text/html": [
       "<pre>Number of examples          : 17384</pre>"
      ],
      "text/plain": [
       "Number of examples          : 17384"
      ]
     },
     "metadata": {},
     "output_type": "display_data"
    },
    {
     "data": {
      "text/html": [
       "<pre>Number of features          : 18</pre>"
      ],
      "text/plain": [
       "Number of features          : 18"
      ]
     },
     "metadata": {},
     "output_type": "display_data"
    },
    {
     "data": {
      "text/html": [
       "<pre>Number of unpacked features : 18</pre>"
      ],
      "text/plain": [
       "Number of unpacked features : 18"
      ]
     },
     "metadata": {},
     "output_type": "display_data"
    },
    {
     "data": {
      "text/html": [
       "<pre>Number of coefficients    : 87</pre>"
      ],
      "text/plain": [
       "Number of coefficients    : 87"
      ]
     },
     "metadata": {},
     "output_type": "display_data"
    },
    {
     "data": {
      "text/html": [
       "<pre>Starting Newton Method</pre>"
      ],
      "text/plain": [
       "Starting Newton Method"
      ]
     },
     "metadata": {},
     "output_type": "display_data"
    },
    {
     "data": {
      "text/html": [
       "<pre>--------------------------------------------------------</pre>"
      ],
      "text/plain": [
       "--------------------------------------------------------"
      ]
     },
     "metadata": {},
     "output_type": "display_data"
    },
    {
     "data": {
      "text/html": [
       "<pre>+-----------+----------+--------------+--------------------+---------------------------------+</pre>"
      ],
      "text/plain": [
       "+-----------+----------+--------------+--------------------+---------------------------------+"
      ]
     },
     "metadata": {},
     "output_type": "display_data"
    },
    {
     "data": {
      "text/html": [
       "<pre>| Iteration | Passes   | Elapsed Time | Training Max Error | Training Root-Mean-Square Error |</pre>"
      ],
      "text/plain": [
       "| Iteration | Passes   | Elapsed Time | Training Max Error | Training Root-Mean-Square Error |"
      ]
     },
     "metadata": {},
     "output_type": "display_data"
    },
    {
     "data": {
      "text/html": [
       "<pre>+-----------+----------+--------------+--------------------+---------------------------------+</pre>"
      ],
      "text/plain": [
       "+-----------+----------+--------------+--------------------+---------------------------------+"
      ]
     },
     "metadata": {},
     "output_type": "display_data"
    },
    {
     "data": {
      "text/html": [
       "<pre>| 1         | 2        | 0.088083     | 4336058.938754     | 162392.982703                   |</pre>"
      ],
      "text/plain": [
       "| 1         | 2        | 0.088083     | 4336058.938754     | 162392.982703                   |"
      ]
     },
     "metadata": {},
     "output_type": "display_data"
    },
    {
     "data": {
      "text/html": [
       "<pre>+-----------+----------+--------------+--------------------+---------------------------------+</pre>"
      ],
      "text/plain": [
       "+-----------+----------+--------------+--------------------+---------------------------------+"
      ]
     },
     "metadata": {},
     "output_type": "display_data"
    },
    {
     "data": {
      "text/html": [
       "<pre>SUCCESS: Optimal solution found.</pre>"
      ],
      "text/plain": [
       "SUCCESS: Optimal solution found."
      ]
     },
     "metadata": {},
     "output_type": "display_data"
    },
    {
     "data": {
      "text/html": [
       "<pre></pre>"
      ],
      "text/plain": []
     },
     "metadata": {},
     "output_type": "display_data"
    }
   ],
   "source": [
    "advanced_model = tc.linear_regression.create(training_set,target='price',features=advanced_features, validation_set=None)"
   ]
  },
  {
   "cell_type": "code",
   "execution_count": 51,
   "id": "unavailable-monday",
   "metadata": {},
   "outputs": [
    {
     "data": {
      "text/plain": [
       "{'max_error': 3170363.1813858226, 'rmse': 155269.6579282571}"
      ]
     },
     "execution_count": 51,
     "metadata": {},
     "output_type": "execute_result"
    }
   ],
   "source": [
    "advanced_model.evaluate(test_set)"
   ]
  },
  {
   "cell_type": "code",
   "execution_count": 53,
   "id": "chicken-belgium",
   "metadata": {},
   "outputs": [
    {
     "data": {
      "text/plain": [
       "-25169.415038142673"
      ]
     },
     "execution_count": 53,
     "metadata": {},
     "output_type": "execute_result"
    }
   ],
   "source": [
    "advanced_model.evaluate(test_set)['rmse'] - my_model.evaluate(test_set)['rmse']"
   ]
  },
  {
   "cell_type": "code",
   "execution_count": null,
   "id": "other-leeds",
   "metadata": {},
   "outputs": [],
   "source": []
  }
 ],
 "metadata": {
  "kernelspec": {
   "display_name": "Python 3",
   "language": "python",
   "name": "python3"
  },
  "language_info": {
   "codemirror_mode": {
    "name": "ipython",
    "version": 3
   },
   "file_extension": ".py",
   "mimetype": "text/x-python",
   "name": "python",
   "nbconvert_exporter": "python",
   "pygments_lexer": "ipython3",
   "version": "3.8.2"
  }
 },
 "nbformat": 4,
 "nbformat_minor": 5
}
